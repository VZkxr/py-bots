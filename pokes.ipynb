{
 "cells": [
  {
   "cell_type": "code",
   "execution_count": 8,
   "metadata": {},
   "outputs": [],
   "source": [
    "import re\n",
    "import os\n",
    "import time\n",
    "import random\n",
    "from selenium import webdriver\n",
    "from selenium.webdriver.common.by import By\n",
    "from selenium.webdriver.chrome.options import Options\n",
    "from selenium.webdriver.chrome.service import Service"
   ]
  },
  {
   "cell_type": "code",
   "execution_count": 49,
   "metadata": {},
   "outputs": [],
   "source": [
    "f = open('credenciales.txt', 'r')\n",
    "us = f.readline().strip()\n",
    "pas = f.readline().strip()\n",
    "\n",
    "ruta = 'tu_ruta_de_carpeta",
    "driver_path = '{}\\\\chromedriver.exe'.format(ruta)\n",
    "chrome_service = Service(driver_path)\n",
    "chrome_options = Options()\n",
    "driver = webdriver.Chrome(service=chrome_service, options=chrome_options)\n",
    "driver.get('https://facebook.com/')"
   ]
  },
  {
   "cell_type": "code",
   "execution_count": 50,
   "metadata": {},
   "outputs": [],
   "source": [
    "username = driver.find_element('name','email')\n",
    "username.click()\n",
    "username.send_keys(us)\n",
    "\n",
    "password = driver.find_element('name', 'pass')\n",
    "password.click()\n",
    "password.send_keys(pas)\n",
    "\n",
    "login = driver.find_element('xpath','/html/body/div[1]/div[1]/div[1]/div/div/div/div[2]/div/div[1]/form/div[2]/button')\n",
    "login.click()"
   ]
  },
  {
   "cell_type": "code",
   "execution_count": 51,
   "metadata": {},
   "outputs": [],
   "source": [
    "driver.get('https://www.facebook.com/pokes/')"
   ]
  },
  {
   "cell_type": "code",
   "execution_count": null,
   "metadata": {},
   "outputs": [],
   "source": [
    "for _ in range(25):\n",
    "    try:\n",
    "        windowBan = driver.find_element(By.XPATH, \"//span[contains(text(),'Aceptar')]\")\n",
    "        windowBan.click()\n",
    "    except:\n",
    "        pass\n",
    "    for i in range(6):\n",
    "        try:\n",
    "            pokes = driver.find_element(By.XPATH, \"//span[contains(text(),'Devolver el toque')]\")\n",
    "            if pokes.text == \"Devolver el toque\":\n",
    "                pokes.click()\n",
    "                print(f\"Se encontró un toque en el intento {i+1}\")\n",
    "        except:\n",
    "            print(f\"No hay toques, intento {i+1}\")\n",
    "            time.sleep(random.randint(1,9))\n",
    "\n",
    "    driver.refresh()\n",
    "    time.sleep(10)"
   ]
  }
 ],
 "metadata": {
  "kernelspec": {
   "display_name": "Python 3",
   "language": "python",
   "name": "python3"
  },
  "language_info": {
   "codemirror_mode": {
    "name": "ipython",
    "version": 3
   },
   "file_extension": ".py",
   "mimetype": "text/x-python",
   "name": "python",
   "nbconvert_exporter": "python",
   "pygments_lexer": "ipython3",
   "version": "3.11.4"
  }
 },
 "nbformat": 4,
 "nbformat_minor": 2
}
